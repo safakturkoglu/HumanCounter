{
  "nbformat": 4,
  "nbformat_minor": 0,
  "metadata": {
    "colab": {
      "name": "task1.ipynb",
      "provenance": [],
      "collapsed_sections": []
    },
    "kernelspec": {
      "name": "python3",
      "display_name": "Python 3"
    },
    "language_info": {
      "name": "python"
    },
    "accelerator": "GPU"
  },
  "cells": [
    {
      "cell_type": "markdown",
      "source": [
        "#Libraries Installations"
      ],
      "metadata": {
        "id": "M1Z4kmK8IUCR"
      }
    },
    {
      "cell_type": "code",
      "execution_count": null,
      "metadata": {
        "id": "kmi8_X0vCLOq"
      },
      "outputs": [],
      "source": [
        "!apt-get install python3-pip python-dev\n",
        "!pip3 install pafy\n",
        "!pip3 install -U vidgear\n",
        "!pip install yt_dlp\n",
        "!pip install requests\n",
        "!pip install PyJWT"
      ]
    },
    {
      "cell_type": "markdown",
      "source": [
        "#Drive Mount"
      ],
      "metadata": {
        "id": "1SV-LhxFIj32"
      }
    },
    {
      "cell_type": "code",
      "source": [
        "from google.colab import drive\n",
        "drive.mount('/content/gdrive')\n",
        "%cd ./gdrive\n",
        "%cd ./MyDrive/task-1"
      ],
      "metadata": {
        "id": "SYqlioNGK5VD"
      },
      "execution_count": null,
      "outputs": []
    },
    {
      "cell_type": "markdown",
      "source": [
        "#Run main.py"
      ],
      "metadata": {
        "id": "zkrKNRM_I13m"
      }
    },
    {
      "cell_type": "code",
      "source": [
        "!python3 main.py"
      ],
      "metadata": {
        "id": "ANtN357oS5FP"
      },
      "execution_count": null,
      "outputs": []
    }
  ]
}